{
 "cells": [
  {
   "cell_type": "code",
   "execution_count": 2,
   "id": "25b9ce34",
   "metadata": {},
   "outputs": [
    {
     "name": "stdout",
     "output_type": "stream",
     "text": [
      "================================================================================\n",
      "De  5 pessoas, 3 pessoas responderam sim e  2 responderam não\n",
      "================================================================================\n",
      "Quantidade de pessoas do sexo feminino que disseram SIM:  1\n",
      "Temos 2 pessoas do sexo feminino,  1 responderam SIM, o que equivale a  50.0 %\n",
      "================================================================================\n",
      "Temos 3 pessoas do sexo masculino,  1 responderam NÃO, o que equivale a  33.33 %\n",
      "================================================================================\n"
     ]
    }
   ],
   "source": [
    "# Uma certa firma fez uma pesquisa de mercado para saber se as pessoas gostaram\n",
    "# OU não de um novo produto lançado no mercado. Para isso, perfurou em cada cartão o sexo\n",
    "# do entrevistado e sua resposta (sim ou não). Sabendo-se que foram entrevistadas 2.000\n",
    "# pessoas, fazer um algoritmo que calcule e escreva:\n",
    "\n",
    "# 1 - O número de pessoas que responderam sim;\n",
    "# 2 - O número de pessoas que responderam não;\n",
    "# 3 - A porcentagem de pessoas do sexo feminino que responderam sim;\n",
    "# 4 - A porcentagem de pessoas do sexo masculino que responderam não.\n",
    "\n",
    "\n",
    "resposta = ['sim','não','sim', 'sim','não']\n",
    "sexo = ['masculino', 'feminino', 'masculino', 'feminino', 'masculino']\n",
    "\n",
    "# masc = 2\n",
    "qtdNaoMasc = 0\n",
    "qtdSimFem = 0\n",
    "\n",
    "qtdfemi = 0\n",
    "qtdMasc = 0\n",
    "\n",
    "qtdNao = 0\n",
    "qtdSim = 0\n",
    "contador = 0\n",
    "\n",
    "while contador < len(resposta):\n",
    "  if sexo[contador] == 'feminino':\n",
    "    qtdfemi = qtdfemi + 1\n",
    "  else:\n",
    "    qtdMasc +=1\n",
    "\n",
    "  if resposta[contador] == 'sim':\n",
    "    qtdSim += 1\n",
    "  else:\n",
    "    qtdNao += 1\n",
    "\n",
    "  if resposta[contador] == 'sim' and sexo[contador] == 'feminino':\n",
    "    qtdSimFem += 1      \n",
    "  if resposta[contador] == 'não' and sexo[contador] == 'masculino':\n",
    "    qtdNaoMasc += 1\n",
    "  \n",
    "  contador +=1\n",
    "\n",
    "porcentagem_masc_nao = (qtdNaoMasc/qtdMasc) * 100\n",
    "porcentagem_fem_sim = (qtdSimFem/qtdfemi) * 100\n",
    "\n",
    "print('='*80)\n",
    "print(\"De \", len(resposta),'pessoas,',qtdSim, \"pessoas responderam sim e \",qtdNao,'responderam não' )\n",
    "\n",
    "print('='*80)\n",
    "print(\"Quantidade de pessoas do sexo feminino que disseram SIM: \",qtdSimFem)\n",
    "print(\"Temos\", qtdfemi , \"pessoas do sexo feminino, \",qtdSimFem, \"responderam SIM, o que equivale a \",round(porcentagem_fem_sim,2),'%')\n",
    "print('='*80)\n",
    "\n",
    "print(\"Temos\",qtdMasc, \"pessoas do sexo masculino, \",qtdNaoMasc, \"responderam NÃO, o que equivale a \",round(porcentagem_masc_nao,2),'%')\n",
    "print('='*80)\n"
   ]
  }
 ],
 "metadata": {
  "kernelspec": {
   "display_name": "Python 3",
   "language": "python",
   "name": "python3"
  },
  "language_info": {
   "codemirror_mode": {
    "name": "ipython",
    "version": 3
   },
   "file_extension": ".py",
   "mimetype": "text/x-python",
   "name": "python",
   "nbconvert_exporter": "python",
   "pygments_lexer": "ipython3",
   "version": "3.8.8"
  }
 },
 "nbformat": 4,
 "nbformat_minor": 5
}
