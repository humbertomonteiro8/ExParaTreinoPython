{
 "cells": [
  {
   "cell_type": "markdown",
   "id": "748e76bd",
   "metadata": {},
   "source": [
    "1.12.5. Supondo que a população de um país A seja da ordem de 90.000.000 de habitantes com uma taxa anual de crescimento de 3% e que a população de um país B seja, aproximadamente, de 200.000.000 de habitantes com uma taxa anual de crescimento de 1,5%, fazer um algoritmo que calcule e escreva o número de anos necessários para que a população do país A\n",
    "ultrapasse ou se iguale a população do país B, mantidas essas taxas de crescimento."
   ]
  },
  {
   "cell_type": "code",
   "execution_count": 1,
   "id": "a7d8764a",
   "metadata": {},
   "outputs": [
    {
     "name": "stdout",
     "output_type": "stream",
     "text": [
      "Em 55  anos a população do pais A irá superar a população do pais B\n"
     ]
    }
   ],
   "source": [
    "A = 90000000\n",
    "B = 200000000\n",
    "Ano = 0\n",
    "\n",
    "while A < B:\n",
    "  A = A * 1.03\n",
    "  B = B * 1.015\n",
    "  Ano = Ano + 1\n",
    "\n",
    "print('Em',Ano,' anos a população do pais A irá superar a população do pais B')"
   ]
  }
 ],
 "metadata": {
  "kernelspec": {
   "display_name": "Python 3",
   "language": "python",
   "name": "python3"
  },
  "language_info": {
   "codemirror_mode": {
    "name": "ipython",
    "version": 3
   },
   "file_extension": ".py",
   "mimetype": "text/x-python",
   "name": "python",
   "nbconvert_exporter": "python",
   "pygments_lexer": "ipython3",
   "version": "3.8.8"
  }
 },
 "nbformat": 4,
 "nbformat_minor": 5
}
