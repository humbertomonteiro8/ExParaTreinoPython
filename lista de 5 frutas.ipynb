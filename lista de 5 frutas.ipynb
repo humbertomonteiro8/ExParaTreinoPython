{
 "cells": [
  {
   "cell_type": "markdown",
   "id": "750149bf",
   "metadata": {},
   "source": [
    "Exercício 2 - Crie uma lista de 5 frutas e verifique se a fruta 'Morango' faz parte da lista."
   ]
  },
  {
   "cell_type": "code",
   "execution_count": 6,
   "id": "3cc6571c",
   "metadata": {},
   "outputs": [
    {
     "name": "stdout",
     "output_type": "stream",
     "text": [
      "Contem na lista o morango\n"
     ]
    }
   ],
   "source": [
    "lista = ['banana', 'uva', 'morango', 'abacate', 'manga']\n",
    "\n",
    "for fruta in lista:\n",
    "    if fruta == 'morango':\n",
    "        print (\"Contem na lista o morango\")"
   ]
  }
 ],
 "metadata": {
  "kernelspec": {
   "display_name": "Python 3",
   "language": "python",
   "name": "python3"
  },
  "language_info": {
   "codemirror_mode": {
    "name": "ipython",
    "version": 3
   },
   "file_extension": ".py",
   "mimetype": "text/x-python",
   "name": "python",
   "nbconvert_exporter": "python",
   "pygments_lexer": "ipython3",
   "version": "3.8.8"
  }
 },
 "nbformat": 4,
 "nbformat_minor": 5
}
