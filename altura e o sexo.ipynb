{
 "cells": [
  {
   "cell_type": "markdown",
   "id": "6f297995",
   "metadata": {},
   "source": [
    "1.12.2. Tem-se um conjunto de dados contendo a altura e o sexo (masculino, feminino) de\n",
    "50 pessoas. Fazer um algoritmo que calcule e escreva:\n",
    "- a maior e a menor altura do grupo;\n",
    "- a média de altura das mulheres;\n",
    "- o número de homens.\n"
   ]
  },
  {
   "cell_type": "code",
   "execution_count": 6,
   "id": "003f7174",
   "metadata": {},
   "outputs": [
    {
     "name": "stdout",
     "output_type": "stream",
     "text": [
      "maior altura =  2.0\n",
      "menor altura =  1.1\n",
      "Altura média das mulheres =  1.575\n",
      "Número de homens =  1\n"
     ]
    }
   ],
   "source": [
    "altura = [1.5, 1.1, 2.0, 1.7, 1.5]\n",
    "sexo = ['f','f','f','f','m','m',]\n",
    "\n",
    "\n",
    "i = 0\n",
    "t = len(altura)\n",
    "somaAltura = 0\n",
    "contHomens = 0\n",
    "contMulheres = 0\n",
    "\n",
    "\n",
    "while i < t:\n",
    "    if sexo[i] == 'f':\n",
    "        somaAltura = somaAltura + altura[i]\n",
    "        contMulheres = contMulheres + 1\n",
    "    else:\n",
    "        contHomens = contHomens + 1\n",
    "    i = i + 1\n",
    "    \n",
    "alturaMediaMulheres = somaAltura / contMulheres\n",
    "\n",
    "print('maior altura = ', max(altura))\n",
    "print('menor altura = ', min(altura))\n",
    "print('Altura média das mulheres = ', alturaMediaMulheres)\n",
    "print('Número de homens = ', contHomens)\n"
   ]
  }
 ],
 "metadata": {
  "kernelspec": {
   "display_name": "Python 3",
   "language": "python",
   "name": "python3"
  },
  "language_info": {
   "codemirror_mode": {
    "name": "ipython",
    "version": 3
   },
   "file_extension": ".py",
   "mimetype": "text/x-python",
   "name": "python",
   "nbconvert_exporter": "python",
   "pygments_lexer": "ipython3",
   "version": "3.8.8"
  }
 },
 "nbformat": 4,
 "nbformat_minor": 5
}
