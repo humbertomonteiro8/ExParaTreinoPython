{
 "cells": [
  {
   "cell_type": "markdown",
   "id": "ab34ef7f",
   "metadata": {},
   "source": [
    "Exercício 10 - Faça um programa que conte quantas vezes a letra \"r\" aparece na frase abaixo. Use um placeholder na sua instrução de impressão\n",
    "\n",
    "frase = \"É melhor, muito melhor, contentar-se com a realidade; se ela não é tão brilhante como os sonhos, tem pelo menos a vantagem de existir.\""
   ]
  },
  {
   "cell_type": "code",
   "execution_count": 4,
   "id": "f1196481",
   "metadata": {},
   "outputs": [
    {
     "name": "stdout",
     "output_type": "stream",
     "text": [
      "O caracter r aparece 6 vezes na frase.\n"
     ]
    }
   ],
   "source": [
    "frase = (\"É melhor, muito melhor, contentar-se com a realidade; se ela não é tão brilhante como os sonhos, tem pelo menos a vantagem de existir.\")\n",
    "\n",
    "count = 0\n",
    "\n",
    "for i in frase:\n",
    "    if i == 'r':\n",
    "        count = count + 1\n",
    "print(\"O caracter r aparece %s vezes na frase.\" %(count))\n",
    "    \n",
    "    "
   ]
  }
 ],
 "metadata": {
  "kernelspec": {
   "display_name": "Python 3",
   "language": "python",
   "name": "python3"
  },
  "language_info": {
   "codemirror_mode": {
    "name": "ipython",
    "version": 3
   },
   "file_extension": ".py",
   "mimetype": "text/x-python",
   "name": "python",
   "nbconvert_exporter": "python",
   "pygments_lexer": "ipython3",
   "version": "3.8.8"
  }
 },
 "nbformat": 4,
 "nbformat_minor": 5
}
