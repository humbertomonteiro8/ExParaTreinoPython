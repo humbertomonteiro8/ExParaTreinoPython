{
 "cells": [
  {
   "cell_type": "markdown",
   "id": "0ffb3250",
   "metadata": {},
   "source": [
    "Exercício 3 - Crie uma função que receba como parâmetro uma lista de 4 elementos, adicione 2 elementos a lista e \n",
    "imprima a lista"
   ]
  },
  {
   "cell_type": "code",
   "execution_count": 30,
   "id": "4b164d8c",
   "metadata": {},
   "outputs": [
    {
     "name": "stdout",
     "output_type": "stream",
     "text": [
      "['apple', 'banana', 'cherry', 'grape', 'orange', 'watermelon']\n"
     ]
    }
   ],
   "source": [
    "    lista = ['apple', 'banana', 'cherry', 'grape']\n",
    "    lista.append(\"orange\")\n",
    "    lista.append( \"watermelon\")\n",
    "    print(lista)\n"
   ]
  },
  {
   "cell_type": "code",
   "execution_count": null,
   "id": "c7575896",
   "metadata": {},
   "outputs": [],
   "source": []
  }
 ],
 "metadata": {
  "kernelspec": {
   "display_name": "Python 3",
   "language": "python",
   "name": "python3"
  },
  "language_info": {
   "codemirror_mode": {
    "name": "ipython",
    "version": 3
   },
   "file_extension": ".py",
   "mimetype": "text/x-python",
   "name": "python",
   "nbconvert_exporter": "python",
   "pygments_lexer": "ipython3",
   "version": "3.8.8"
  }
 },
 "nbformat": 4,
 "nbformat_minor": 5
}
