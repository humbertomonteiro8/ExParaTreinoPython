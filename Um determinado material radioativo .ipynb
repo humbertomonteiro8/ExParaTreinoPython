{
 "cells": [
  {
   "cell_type": "markdown",
   "id": "841fd639",
   "metadata": {},
   "source": [
    "Um determinado material radioativo perde metade de sua massa a cada 50\n",
    "segundos. Dada a massa inicial, em gramas, perfurada em um cartão, fazer um algoritmo que determine o tempo necessário para que essa massa se torne menor do que 0,5 grama. Escreva a massa inicial, a massa final, e o tempo calculado em horas,minutos e segundos."
   ]
  },
  {
   "cell_type": "code",
   "execution_count": 9,
   "id": "28bbe248",
   "metadata": {},
   "outputs": [
    {
     "name": "stdout",
     "output_type": "stream",
     "text": [
      "Massa Inicial....:  1000\n",
      "Massa Final......:  0.48828125\n",
      "Tempo............:  0 : 9 : 10\n"
     ]
    }
   ],
   "source": [
    "massaInicial = 1000\n",
    "massaFinal = massaInicial\n",
    "segundos = 0\n",
    "\n",
    "\n",
    "\n",
    "while massaFinal >= 0.5:\n",
    "    massaFinal = massaFinal / 2\n",
    "    segundos = segundos + 50\n",
    "\n",
    "horas = segundos // 3600\n",
    "segundos = segundos % 3600\n",
    "minutos = segundos // 60\n",
    "segundos = segundos % 60\n",
    "\n",
    "print('Massa Inicial....: ', massaInicial)\n",
    "print('Massa Final......: ', massaFinal)\n",
    "print('Tempo............: ', horas, \":\", minutos, \":\", segundos)"
   ]
  }
 ],
 "metadata": {
  "kernelspec": {
   "display_name": "Python 3",
   "language": "python",
   "name": "python3"
  },
  "language_info": {
   "codemirror_mode": {
    "name": "ipython",
    "version": 3
   },
   "file_extension": ".py",
   "mimetype": "text/x-python",
   "name": "python",
   "nbconvert_exporter": "python",
   "pygments_lexer": "ipython3",
   "version": "3.8.8"
  }
 },
 "nbformat": 4,
 "nbformat_minor": 5
}
