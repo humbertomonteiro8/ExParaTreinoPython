{
 "cells": [
  {
   "cell_type": "code",
   "execution_count": null,
   "source": [
    "# Fibonacci 0 1 1 2 3 5 8 13 21 ....\r\n",
    "#           0 1 2 3 4 5 6 7  8 \r\n",
    "\r\n",
    "def fibonacci(n):\r\n",
    "  cont = 2\r\n",
    "  a = 0\r\n",
    "  b = 1\r\n",
    "  c = a + b\r\n",
    "  \r\n",
    "  if n==0:\r\n",
    "    return a\r\n",
    "  elif n==1:\r\n",
    "    return b\r\n",
    "\r\n",
    "  while cont <= n:\r\n",
    "    if cont == n:\r\n",
    "      return c\r\n",
    "    a = b\r\n",
    "    b = c\r\n",
    "    c = a+b \r\n",
    "    cont = cont + 1\r\n",
    "\r\n",
    "print (fibonacci(3))"
   ],
   "outputs": [],
   "metadata": {}
  },
  {
   "cell_type": "code",
   "execution_count": null,
   "source": [],
   "outputs": [],
   "metadata": {}
  }
 ],
 "metadata": {
  "kernelspec": {
   "display_name": "Python 3",
   "language": "python",
   "name": "python3"
  },
  "language_info": {
   "codemirror_mode": {
    "name": "ipython",
    "version": 3
   },
   "file_extension": ".py",
   "mimetype": "text/x-python",
   "name": "python",
   "nbconvert_exporter": "python",
   "pygments_lexer": "ipython3",
   "version": "3.8.8"
  }
 },
 "nbformat": 4,
 "nbformat_minor": 5
}